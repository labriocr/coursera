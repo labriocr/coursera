{
 "cells": [
  {
   "cell_type": "markdown",
   "id": "85917497",
   "metadata": {},
   "source": [
    "# Data Science Tools and Ecosystem\n"
   ]
  },
  {
   "cell_type": "markdown",
   "id": "960d06b5",
   "metadata": {},
   "source": [
    "In this notebook, Data Science Tools and Ecosystem are summarized."
   ]
  },
  {
   "cell_type": "markdown",
   "id": "f3b03ed3",
   "metadata": {},
   "source": [
    "**Objectives:**\n",
    "- List popular languages for Data Science\n",
    "- Jupyter notebook\n",
    "- Rstudio\n",
    "- Anaconda\n",
    "\n",
    "## Author Giuseppe Labriola"
   ]
  },
  {
   "cell_type": "markdown",
   "id": "4a323682",
   "metadata": {},
   "source": [
    "Some of the popular languages that Data Scientists use are:\n",
    " - R\n",
    " - Python\n",
    " - SQL\n",
    " - Java\n",
    " - MATLAB\n",
    " - Scala\n",
    " - Julia\n",
    " - SAS\n",
    " - C/C++"
   ]
  },
  {
   "cell_type": "markdown",
   "id": "4e1355d3",
   "metadata": {},
   "source": [
    "Some of the commonly used libraries used by Data Scientists include:\n",
    "\n",
    " - Pandas\n",
    " - Numpy\n",
    " - Matplotlib\n",
    " - Scikit-learn\n",
    " - TensorFlow \n",
    " - Keras \n",
    " - PyTorch\n",
    " - ggplot2\n",
    " - dplyr\n",
    " - tidyr\n",
    " - caret\n",
    " \n",
    " "
   ]
  },
  {
   "cell_type": "markdown",
   "id": "ed9d277b",
   "metadata": {},
   "source": [
    "|Data Science Tools|\n",
    "|------------------|\n",
    "|RStudio|\n",
    "|Jupyter Notebook|\n",
    "|Apache Zeppelin|"
   ]
  },
  {
   "cell_type": "markdown",
   "id": "92168cc6",
   "metadata": {},
   "source": [
    "### Below are a few examples of evaluating arithmetic expressions in Python."
   ]
  },
  {
   "cell_type": "markdown",
   "id": "ae97ac2a",
   "metadata": {},
   "source": [
    "This a simple arithmetic expression to mutiply then add integers"
   ]
  },
  {
   "cell_type": "code",
   "execution_count": 1,
   "id": "114d7251",
   "metadata": {},
   "outputs": [
    {
     "data": {
      "text/plain": [
       "17"
      ]
     },
     "execution_count": 1,
     "metadata": {},
     "output_type": "execute_result"
    }
   ],
   "source": [
    "(3*4)+5"
   ]
  },
  {
   "cell_type": "markdown",
   "id": "55973837",
   "metadata": {},
   "source": [
    "This will convert 200 minutes to hours by diving by 60"
   ]
  },
  {
   "cell_type": "code",
   "execution_count": 2,
   "id": "cf526fc2",
   "metadata": {},
   "outputs": [
    {
     "data": {
      "text/plain": [
       "3.3333333333333335"
      ]
     },
     "execution_count": 2,
     "metadata": {},
     "output_type": "execute_result"
    }
   ],
   "source": [
    "200/60"
   ]
  },
  {
   "cell_type": "code",
   "execution_count": null,
   "id": "c95d8501",
   "metadata": {},
   "outputs": [],
   "source": []
  }
 ],
 "metadata": {
  "kernelspec": {
   "display_name": "Python 3 (ipykernel)",
   "language": "python",
   "name": "python3"
  },
  "language_info": {
   "codemirror_mode": {
    "name": "ipython",
    "version": 3
   },
   "file_extension": ".py",
   "mimetype": "text/x-python",
   "name": "python",
   "nbconvert_exporter": "python",
   "pygments_lexer": "ipython3",
   "version": "3.10.11"
  }
 },
 "nbformat": 4,
 "nbformat_minor": 5
}
